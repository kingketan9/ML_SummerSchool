{
  "nbformat": 4,
  "nbformat_minor": 0,
  "metadata": {
    "colab": {
      "name": "Coin Change Problem.ipynb",
      "provenance": [],
      "collapsed_sections": [],
      "include_colab_link": true
    },
    "kernelspec": {
      "display_name": "Python 3",
      "language": "python",
      "name": "python3"
    },
    "language_info": {
      "codemirror_mode": {
        "name": "ipython",
        "version": 3
      },
      "file_extension": ".py",
      "mimetype": "text/x-python",
      "name": "python",
      "nbconvert_exporter": "python",
      "pygments_lexer": "ipython3",
      "version": "3.8.5"
    }
  },
  "cells": [
    {
      "cell_type": "markdown",
      "metadata": {
        "id": "view-in-github",
        "colab_type": "text"
      },
      "source": [
        "<a href=\"https://colab.research.google.com/github/kingketan9/ML_SummerSchool/blob/main/Coin_Change_Problem.ipynb\" target=\"_parent\"><img src=\"https://colab.research.google.com/assets/colab-badge.svg\" alt=\"Open In Colab\"/></a>"
      ]
    },
    {
      "cell_type": "markdown",
      "metadata": {
        "id": "7nQSRI4Dim1Y"
      },
      "source": [
        "  ---\n",
        "# **Coin Change Problem**\n",
        "---\n",
        "####**Problem Statement:**\n",
        "- There are coins of Rs 1, 5, 10 and 20. How many minimum number of coins are required to make Rs 1125.\n",
        "- **Constraints**: Total number of coins must be multiple of 5.\n",
        "---\n"
      ]
    },
    {
      "cell_type": "markdown",
      "metadata": {
        "id": "A30y-VtNim1h"
      },
      "source": [
        "### **1. Library inclusion**"
      ]
    },
    {
      "cell_type": "code",
      "metadata": {
        "id": "cF_mSA9Xim1j"
      },
      "source": [
        "import random as r"
      ],
      "execution_count": 14,
      "outputs": []
    },
    {
      "cell_type": "markdown",
      "metadata": {
        "id": "UjvBYy0Lim1m"
      },
      "source": [
        "### **2. Parameter Setting**"
      ]
    },
    {
      "cell_type": "code",
      "metadata": {
        "id": "NHB2KMhZim1o"
      },
      "source": [
        "#Parameter Setting\n",
        "CoinList    = [1, 5, 10, 20]  # Coin List\n",
        "Target      = 1125     # Target\n",
        "C           = 5        # Constraint\n",
        "ResultList  = set()    # Store Result List\n",
        "Iterations  = 10000    # Number of Inerations"
      ],
      "execution_count": 15,
      "outputs": []
    },
    {
      "cell_type": "markdown",
      "metadata": {
        "id": "BTLd3s--im1c"
      },
      "source": [
        "### **3. Single Run**\n",
        "\n",
        "\n"
      ]
    },
    {
      "cell_type": "code",
      "metadata": {
        "id": "veBU-f21im1x",
        "colab": {
          "base_uri": "https://localhost:8080/"
        },
        "outputId": "45004e8d-a146-4149-b051-e43370800c49"
      },
      "source": [
        "# Print CoinList\n",
        "print (\"Coin List     : \", CoinList)\n",
        "\n",
        "# Select count of coins\n",
        "CoinCount = [ 5 * r.randint(0,15) for j in range(len(CoinList))]\n",
        "print (\"Coin Count    : \", CoinCount)\n",
        "\n",
        "# Select number of elements from Set\n",
        "CoinCost = [ a * b for a,b in zip(CoinCount, CoinList)]\n",
        "print (\"Each Coin cost: \", CoinCost)\n",
        "\n",
        "# Sum the products in ColboList\n",
        "CoinSum = sum(CoinCost)\n",
        "print(\"Total Amount  : \", CoinSum)\n"
      ],
      "execution_count": 16,
      "outputs": [
        {
          "output_type": "stream",
          "name": "stdout",
          "text": [
            "Coin List     :  [1, 5, 10, 20]\n",
            "Coin Count    :  [70, 55, 15, 70]\n",
            "Each Coin cost:  [70, 275, 150, 1400]\n",
            "Total Amount  :  1895\n"
          ]
        }
      ]
    },
    {
      "cell_type": "markdown",
      "metadata": {
        "id": "VBOTEZppIIDh"
      },
      "source": [
        "### **4. Start Program**\n",
        "\n",
        "\n"
      ]
    },
    {
      "cell_type": "code",
      "metadata": {
        "colab": {
          "base_uri": "https://localhost:8080/"
        },
        "outputId": "bdd86ca3-d38b-471b-bdb0-ac9eeba261e5",
        "id": "uvuFtJSmIIDj"
      },
      "source": [
        "# Loop till number of Iterations\n",
        "ResultList  = set()\n",
        "\n",
        "f=0\n",
        "for i in range(Iterations):\n",
        "\n",
        "    # Select count of coins\n",
        "    CoinCount = [ 5 * r.randint(0,15) for j in range(len(CoinList))]\n",
        "\n",
        "    # Select number of elements from Set\n",
        "    CoinCost = [ a * b for a,b in zip(CoinCount, CoinList)]\n",
        "\n",
        "    # Sum the products in ColboList\n",
        "    CoinSum = sum(CoinCost)\n",
        "    \n",
        "    if sum(CoinCost) == Target:\n",
        "      print (\"Coint Count: \", CoinCount, sum(CoinCount), sum(CoinCost))\n",
        "      ResultList.add(tuple(CoinCount))\n",
        "      f=1\n",
        "\n",
        "if f==0:\n",
        "  print(\"No Sequence found !!\")\n",
        "\n",
        "# Print total sets\n",
        "print (\"\\nTotal Sets: \", len(ResultList), \"\\n\")\n"
      ],
      "execution_count": 17,
      "outputs": [
        {
          "output_type": "stream",
          "name": "stdout",
          "text": [
            "Coint Count:  [75, 60, 55, 10] 200 1125\n",
            "Coint Count:  [0, 5, 60, 25] 90 1125\n",
            "Coint Count:  [75, 50, 20, 30] 175 1125\n",
            "Coint Count:  [25, 30, 25, 35] 115 1125\n",
            "Coint Count:  [75, 60, 65, 5] 205 1125\n",
            "Coint Count:  [0, 15, 35, 35] 85 1125\n",
            "Coint Count:  [50, 35, 50, 20] 155 1125\n",
            "Coint Count:  [75, 50, 30, 25] 180 1125\n",
            "Coint Count:  [75, 70, 20, 25] 190 1125\n",
            "Coint Count:  [0, 65, 40, 20] 125 1125\n",
            "Coint Count:  [75, 0, 15, 45] 135 1125\n",
            "Coint Count:  [50, 75, 30, 20] 175 1125\n",
            "Coint Count:  [0, 5, 50, 30] 85 1125\n",
            "Coint Count:  [25, 70, 45, 15] 155 1125\n",
            "Coint Count:  [0, 15, 25, 40] 80 1125\n",
            "Coint Count:  [75, 60, 45, 15] 195 1125\n",
            "Coint Count:  [0, 25, 40, 30] 95 1125\n",
            "Coint Count:  [50, 15, 60, 20] 145 1125\n",
            "Coint Count:  [0, 15, 5, 50] 70 1125\n",
            "Coint Count:  [25, 50, 35, 25] 135 1125\n",
            "Coint Count:  [50, 5, 35, 35] 125 1125\n",
            "Coint Count:  [25, 50, 65, 10] 150 1125\n",
            "Coint Count:  [25, 20, 30, 35] 110 1125\n",
            "Coint Count:  [50, 65, 15, 30] 160 1125\n",
            "Coint Count:  [75, 50, 50, 15] 190 1125\n",
            "Coint Count:  [50, 25, 15, 40] 130 1125\n",
            "Coint Count:  [50, 35, 10, 40] 135 1125\n",
            "Coint Count:  [0, 75, 5, 35] 115 1125\n",
            "Coint Count:  [0, 75, 25, 25] 125 1125\n",
            "Coint Count:  [50, 5, 75, 15] 145 1125\n",
            "Coint Count:  [50, 25, 65, 15] 155 1125\n",
            "Coint Count:  [75, 20, 65, 15] 175 1125\n",
            "Coint Count:  [50, 25, 35, 30] 140 1125\n",
            "Coint Count:  [75, 30, 0, 45] 150 1125\n",
            "\n",
            "Total Sets:  34 \n",
            "\n"
          ]
        }
      ]
    },
    {
      "cell_type": "markdown",
      "source": [
        "### **5. Find the min count of coins**\n"
      ],
      "metadata": {
        "id": "r9uAwLLBeblV"
      }
    },
    {
      "cell_type": "code",
      "source": [
        "minSum  = 99999\n",
        "minList = 0\n",
        "for r in ResultList:\n",
        "  if sum(r) < minSum:\n",
        "    minSum = sum(r)\n",
        "    minList = r\n",
        "\n",
        "print(\"Min num of coins are:\" , sum(minList), minList )"
      ],
      "metadata": {
        "colab": {
          "base_uri": "https://localhost:8080/"
        },
        "id": "nCyk0fHJcwmE",
        "outputId": "0193e805-0072-4ffd-eee2-b4ccf488ebe8"
      },
      "execution_count": 18,
      "outputs": [
        {
          "output_type": "stream",
          "name": "stdout",
          "text": [
            "Min num of coins are: 70 (0, 15, 5, 50)\n"
          ]
        }
      ]
    },
    {
      "cell_type": "markdown",
      "source": [
        "### **6. Compelete Code**\n"
      ],
      "metadata": {
        "id": "ZQxw382Feh77"
      }
    },
    {
      "cell_type": "code",
      "source": [
        "# 1. Library inclusion\n",
        "import random as r\n",
        "\n",
        "\n",
        "# 2. Parameter Setting\n",
        "CoinList    = [1, 5, 10, 20]  # Coin List\n",
        "Target      = 1125     # Target\n",
        "C           = 5        # Constraint\n",
        "ResultList  = set()    # Store Result List\n",
        "Iterations  = 50000    # Number of Inerations\n",
        "\n",
        "\n",
        "\n",
        "# 3. Loop till number of Iterations\n",
        "f=0\n",
        "for i in range(Iterations):\n",
        "\n",
        "    # Select count of coins\n",
        "    CoinCount = [ 5 * r.randint(0,15) for j in range(len(CoinList))]\n",
        "\n",
        "    # Select number of elements from Set\n",
        "    CoinCost = [ a * b for a,b in zip(CoinCount, CoinList)]\n",
        "\n",
        "    # Sum the products in ColboList\n",
        "    CoinSum = sum(CoinCost)\n",
        "    \n",
        "    if sum(CoinCost) == Target:\n",
        "      ResultList.add(tuple(CoinCount))\n",
        "      f=1\n",
        "\n",
        "if f==0:\n",
        "  print(\"No Sequence found !!\")\n",
        "\n",
        "\n",
        "\n",
        "# 4. Find min count of coins\n",
        "minSum  = 99999\n",
        "minList = 0\n",
        "for r in ResultList:\n",
        "  if sum(r) < minSum:\n",
        "    minSum = sum(r)\n",
        "    minList = r\n",
        "\n",
        "print(\"Min num of coins are:\" , sum(minList), minList )"
      ],
      "metadata": {
        "colab": {
          "base_uri": "https://localhost:8080/"
        },
        "outputId": "187c80a9-9af2-4e07-f801-c2858663baea",
        "id": "tToGkRhheh79"
      },
      "execution_count": 19,
      "outputs": [
        {
          "output_type": "stream",
          "name": "stdout",
          "text": [
            "Min num of coins are: 60 (0, 5, 0, 55)\n"
          ]
        }
      ]
    },
    {
      "cell_type": "code",
      "source": [
        "#Coin change problem\n",
        "import random as r\n",
        "\n",
        "CoinList = [1, 5, 10, 20]  \n",
        "Target = 1125     \n",
        "C = 5        \n",
        "ResultList = set()    \n",
        "Iterations = 50000    \n",
        "\n",
        "f=0\n",
        "for i in range(Iterations):\n",
        "    CoinCount = [ 5 * r.randint(0,15) for j in range(len(CoinList))]\n",
        "    CoinCost = [ a * b for a,b in zip(CoinCount, CoinList)]\n",
        "    CoinSum = sum(CoinCost)\n",
        "    \n",
        "    if sum(CoinCost) == Target:\n",
        "      ResultList.add(tuple(CoinCount))\n",
        "      f=1\n",
        "\n",
        "if f==0:\n",
        "  print(\"No Sequence found !!\")\n",
        "\n",
        "minSum  = 99999\n",
        "minList = 0\n",
        "for r in ResultList:\n",
        "  if sum(r) < minSum:\n",
        "    minSum = sum(r)\n",
        "    minList = r\n",
        "\n",
        "print(\"Min num of coins are:\" , sum(minList), minList )\n"
      ],
      "metadata": {
        "colab": {
          "base_uri": "https://localhost:8080/"
        },
        "id": "plbuL0yoyslz",
        "outputId": "11138275-7f04-4c7b-8849-02bceeb88e15"
      },
      "execution_count": 20,
      "outputs": [
        {
          "output_type": "stream",
          "name": "stdout",
          "text": [
            "Min num of coins are: 60 (0, 5, 0, 55)\n"
          ]
        }
      ]
    },
    {
      "cell_type": "code",
      "source": [
        ""
      ],
      "metadata": {
        "id": "79Hb9NkDy91Y"
      },
      "execution_count": 20,
      "outputs": []
    }
  ]
}